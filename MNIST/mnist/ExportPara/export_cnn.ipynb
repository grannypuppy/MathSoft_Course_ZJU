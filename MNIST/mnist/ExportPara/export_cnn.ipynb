{
 "cells": [
  {
   "cell_type": "markdown",
   "id": "cb483115",
   "metadata": {},
   "source": [
    "# CNN 网络参数导出\n",
    "\n",
    "本笔记本用于训练 CNN 模型并将参数导出到二进制文件中，以便于后续在 C 语言中使用。"
   ]
  },
  {
   "cell_type": "code",
   "execution_count": 1,
   "id": "ad943cca",
   "metadata": {},
   "outputs": [],
   "source": [
    "import torch\n",
    "import torch.nn as nn\n",
    "import torch.nn.functional as F\n",
    "import torch.optim as optim\n",
    "from torchvision import datasets, transforms\n",
    "import matplotlib.pyplot as plt\n",
    "import numpy as np"
   ]
  },
  {
   "cell_type": "code",
   "execution_count": null,
   "id": "9553134d",
   "metadata": {},
   "outputs": [],
   "source": [
    "# 定义 CNN 模型\n",
    "class CNN(nn.Module):\n",
    "    def __init__(self):\n",
    "        super().__init__() # -> 输入规格：1 x 28 x 28\n",
    "        # 卷积层\n",
    "        self.conv1 = nn.Conv2d(1, 32, kernel_size=3, padding=1)  # -> 32 x 28 x 28\n",
    "        self.conv2 = nn.Conv2d(32, 64, kernel_size=3, padding=1) # -> 64 x 28 x 28\n",
    "        self.pool = nn.MaxPool2d(2, 2)                           # 每次池化尺寸减半\n",
    "        self.dropout = nn.Dropout(0.25)\n",
    "        self.fc1 = nn.Linear(64 * 7 * 7, 128)\n",
    "        self.fc2 = nn.Linear(128, 10)\n",
    "\n",
    "    def forward(self, x):\n",
    "        x = F.relu(self.conv1(x))              # -> (B, 32, 28, 28)\n",
    "        x = self.pool(F.relu(self.conv2(x)))   # -> (B, 64, 14, 14)\n",
    "        x = self.pool(x)                       # -> (B, 64, 7, 7)\n",
    "        x = self.dropout(x)\n",
    "        x = x.view(x.size(0), -1)              # -> (B, 3136)\n",
    "        x = F.relu(self.fc1(x))                # -> (B, 128)\n",
    "        x = self.fc2(x)                        # -> (B, 10)\n",
    "        return x"
   ]
  },
  {
   "cell_type": "code",
   "execution_count": null,
   "id": "eeb15472",
   "metadata": {},
   "outputs": [
    {
     "name": "stdout",
     "output_type": "stream",
     "text": [
      "Downloading http://yann.lecun.com/exdb/mnist/train-images-idx3-ubyte.gz\n",
      "Failed to download (trying next):\n",
      "HTTP Error 404: Not Found\n",
      "\n",
      "Downloading https://ossci-datasets.s3.amazonaws.com/mnist/train-images-idx3-ubyte.gz\n",
      "Failed to download (trying next):\n",
      "HTTP Error 404: Not Found\n",
      "\n",
      "Downloading https://ossci-datasets.s3.amazonaws.com/mnist/train-images-idx3-ubyte.gz\n",
      "Downloading https://ossci-datasets.s3.amazonaws.com/mnist/train-images-idx3-ubyte.gz to ../data/MNIST/raw/train-images-idx3-ubyte.gz\n",
      "Downloading https://ossci-datasets.s3.amazonaws.com/mnist/train-images-idx3-ubyte.gz to ../data/MNIST/raw/train-images-idx3-ubyte.gz\n"
     ]
    },
    {
     "name": "stderr",
     "output_type": "stream",
     "text": [
      "100%|██████████| 9.91M/9.91M [00:03<00:00, 2.92MB/s]\n",
      "\n"
     ]
    },
    {
     "name": "stdout",
     "output_type": "stream",
     "text": [
      "Extracting ../data/MNIST/raw/train-images-idx3-ubyte.gz to ../data/MNIST/raw\n",
      "\n",
      "Downloading http://yann.lecun.com/exdb/mnist/train-labels-idx1-ubyte.gz\n",
      "\n",
      "Downloading http://yann.lecun.com/exdb/mnist/train-labels-idx1-ubyte.gz\n",
      "Failed to download (trying next):\n",
      "HTTP Error 404: Not Found\n",
      "\n",
      "Downloading https://ossci-datasets.s3.amazonaws.com/mnist/train-labels-idx1-ubyte.gz\n",
      "Failed to download (trying next):\n",
      "HTTP Error 404: Not Found\n",
      "\n",
      "Downloading https://ossci-datasets.s3.amazonaws.com/mnist/train-labels-idx1-ubyte.gz\n",
      "Downloading https://ossci-datasets.s3.amazonaws.com/mnist/train-labels-idx1-ubyte.gz to ../data/MNIST/raw/train-labels-idx1-ubyte.gz\n",
      "Downloading https://ossci-datasets.s3.amazonaws.com/mnist/train-labels-idx1-ubyte.gz to ../data/MNIST/raw/train-labels-idx1-ubyte.gz\n"
     ]
    },
    {
     "name": "stderr",
     "output_type": "stream",
     "text": [
      "100%|██████████| 28.9k/28.9k [00:00<00:00, 113kB/s]\n",
      "\n"
     ]
    },
    {
     "name": "stdout",
     "output_type": "stream",
     "text": [
      "Extracting ../data/MNIST/raw/train-labels-idx1-ubyte.gz to ../data/MNIST/raw\n",
      "\n",
      "Downloading http://yann.lecun.com/exdb/mnist/t10k-images-idx3-ubyte.gz\n",
      "Failed to download (trying next):\n",
      "HTTP Error 404: Not Found\n",
      "\n",
      "Downloading https://ossci-datasets.s3.amazonaws.com/mnist/t10k-images-idx3-ubyte.gz\n",
      "Failed to download (trying next):\n",
      "HTTP Error 404: Not Found\n",
      "\n",
      "Downloading https://ossci-datasets.s3.amazonaws.com/mnist/t10k-images-idx3-ubyte.gz\n",
      "Downloading https://ossci-datasets.s3.amazonaws.com/mnist/t10k-images-idx3-ubyte.gz to ../data/MNIST/raw/t10k-images-idx3-ubyte.gz\n",
      "Downloading https://ossci-datasets.s3.amazonaws.com/mnist/t10k-images-idx3-ubyte.gz to ../data/MNIST/raw/t10k-images-idx3-ubyte.gz\n"
     ]
    },
    {
     "name": "stderr",
     "output_type": "stream",
     "text": [
      "100%|██████████| 1.65M/1.65M [00:01<00:00, 1.12MB/s]\n",
      "\n"
     ]
    },
    {
     "name": "stdout",
     "output_type": "stream",
     "text": [
      "Extracting ../data/MNIST/raw/t10k-images-idx3-ubyte.gz to ../data/MNIST/raw\n",
      "\n",
      "Downloading http://yann.lecun.com/exdb/mnist/t10k-labels-idx1-ubyte.gz\n",
      "Failed to download (trying next):\n",
      "HTTP Error 404: Not Found\n",
      "\n",
      "Downloading https://ossci-datasets.s3.amazonaws.com/mnist/t10k-labels-idx1-ubyte.gz\n",
      "Failed to download (trying next):\n",
      "HTTP Error 404: Not Found\n",
      "\n",
      "Downloading https://ossci-datasets.s3.amazonaws.com/mnist/t10k-labels-idx1-ubyte.gz\n",
      "Downloading https://ossci-datasets.s3.amazonaws.com/mnist/t10k-labels-idx1-ubyte.gz to ../data/MNIST/raw/t10k-labels-idx1-ubyte.gz\n",
      "Downloading https://ossci-datasets.s3.amazonaws.com/mnist/t10k-labels-idx1-ubyte.gz to ../data/MNIST/raw/t10k-labels-idx1-ubyte.gz\n"
     ]
    },
    {
     "name": "stderr",
     "output_type": "stream",
     "text": [
      "100%|██████████| 4.54k/4.54k [00:00<00:00, 16.9MB/s]\n",
      "\n"
     ]
    },
    {
     "name": "stdout",
     "output_type": "stream",
     "text": [
      "Extracting ../data/MNIST/raw/t10k-labels-idx1-ubyte.gz to ../data/MNIST/raw\n",
      "\n"
     ]
    }
   ],
   "source": [
    "# 数据预处理\n",
    "transform = transforms.Compose([\n",
    "    transforms.ToTensor(),\n",
    "    transforms.Normalize((0.1307,), (0.3081,))  # 标准化\n",
    "])\n",
    "\n",
    "# 加载 MNIST 数据集\n",
    "train_dataset = datasets.MNIST('../data', train=True, download=True, transform=transform)\n",
    "test_dataset = datasets.MNIST('../data', train=False, transform=transform)\n",
    "\n",
    "# 加载可迭代对象DataLoader (可用loader.dataset访问原数据集)\n",
    "train_loader = torch.utils.data.DataLoader(train_dataset, batch_size=32, shuffle=True)\n",
    "test_loader = torch.utils.data.DataLoader(test_dataset, batch_size=1000, shuffle=False)\n",
    "\n",
    "# 设置设备\n",
    "device = torch.device(\"cuda\" if torch.cuda.is_available() else \"cpu\")\n",
    "model = CNN().to(device) # 将模型移动到GPU\n",
    "\n",
    "# 设置优化器和损失函数\n",
    "optimizer = optim.Adam(model.parameters(), lr=0.001)\n",
    "criterion = nn.CrossEntropyLoss()"
   ]
  },
  {
   "cell_type": "code",
   "execution_count": null,
   "id": "527f3a2b",
   "metadata": {},
   "outputs": [
    {
     "name": "stdout",
     "output_type": "stream",
     "text": [
      "Epoch 1 完成\n",
      "Epoch 2 完成\n",
      "Epoch 2 完成\n",
      "Epoch 3 完成\n",
      "Epoch 3 完成\n",
      "Epoch 4 完成\n",
      "Epoch 4 完成\n",
      "Epoch 5 完成\n",
      "Epoch 5 完成\n",
      "\n",
      "测试准确率：0.9925\n",
      "\n",
      "测试准确率：0.9925\n"
     ]
    }
   ],
   "source": [
    "# 训练模型\n",
    "for epoch in range(1, 6): #遍历6次\n",
    "    model.train() #模型切换到训练模式\n",
    "    for batch_idx, (data, target) in enumerate(train_loader): \n",
    "    # data 是输入数据 target是监督的目标标签\n",
    "        data, target = data.to(device), target.to(device)\n",
    "        optimizer.zero_grad() #梯度清零\n",
    "        output = model(data)  # 计算模型输出-> (B, 10)\n",
    "        loss = criterion(output, target) # 计算损失\n",
    "        loss.backward() # 反向传播\n",
    "        optimizer.step() # 更新参数\n",
    "    print(f\"Epoch {epoch} 完成\")\n",
    "\n",
    "# 模型切换到验证模型\n",
    "model.eval() \n",
    "\n",
    "correct = 0\n",
    "with torch.no_grad():\n",
    "    for data, target in test_loader:\n",
    "        data, target = data.to(device), target.to(device)\n",
    "        output = model(data)\n",
    "        pred = output.argmax(dim=1)\n",
    "        correct += pred.eq(target).sum().item()\n",
    "        \"\"\"\n",
    "        .item() 是 PyTorch 张量(Tensor)的方法,用于将只包含一个元素的张量转换为对应的 Python 标量(如 int 或 float)。\n",
    "\n",
    "        pred.eq(target)：比较预测和目标是否相等，返回布尔张量。\n",
    "        .sum()：统计相等的数量，得到一个只包含一个元素的张量\n",
    "        .item()：把这个单元素张量转换成 Python 的数字类型方便后续累加。\n",
    "        \n",
    "        如果张量有多个元素，.item() 会报错。它只能用于单元素张量。\"\"\"\n",
    "\n",
    "print(f\"\\n测试准确率：{correct / len(test_loader.dataset):.4f}\")"
   ]
  },
  {
   "cell_type": "code",
   "execution_count": 13,
   "id": "04933218",
   "metadata": {},
   "outputs": [
    {
     "data": {
      "image/png": "[encoded data removed]",
      "text/plain": [
       "<Figure size 1000x200 with 10 Axes>"
      ]
     },
     "metadata": {},
     "output_type": "display_data"
    }
   ],
   "source": [
    "# 显示前10个预测结果\n",
    "examples = enumerate(test_loader)\n",
    "batch_idx, (example_data, example_targets) = next(examples)\n",
    "\n",
    "with torch.no_grad():\n",
    "    output = model(example_data.to(device))\n",
    "\n",
    "plt.figure(figsize=(10, 2))\n",
    "for i in range(10):\n",
    "    plt.subplot(1, 10, i + 1)\n",
    "    plt.imshow(example_data[i][0], cmap='gray')\n",
    "    plt.title(f\"{output[i].argmax().item()}\")\n",
    "    plt.axis('off')\n",
    "plt.show()"
   ]
  },
  {
   "cell_type": "markdown",
   "id": "994937a9",
   "metadata": {},
   "source": [
    "## 导出CNN模型参数\n",
    "\n",
    "接下来我们将导出模型的参数到二进制文件中"
   ]
  },
  {
   "cell_type": "code",
   "execution_count": 19,
   "id": "808ae9b8",
   "metadata": {},
   "outputs": [
    {
     "name": "stdout",
     "output_type": "stream",
     "text": [
      "odict_keys(['conv1.weight', 'conv1.bias', 'conv2.weight', 'conv2.bias', 'fc1.weight', 'fc1.bias', 'fc2.weight', 'fc2.bias'])\n"
     ]
    },
    {
     "data": {
      "text/plain": [
       "'state_dict 本质上是一个 Python其中:\\n键(key):是字符串，表示参数的名称\\n值(value):是 tensor,包含实际的参数数据'"
      ]
     },
     "execution_count": 19,
     "metadata": {},
     "output_type": "execute_result"
    }
   ],
   "source": [
    "# 获取模型参数的state_dict\n",
    "state_dict = model.state_dict()\n",
    "print(state_dict.keys()) # 打印模型参数的名称\n",
    "\n",
    "\"\"\"state_dict 本质上是一个 Python其中:\n",
    "键(key):是字符串，表示参数的名称\n",
    "值(value):是 tensor,包含实际的参数数据\"\"\""
   ]
  },
  {
   "cell_type": "code",
   "execution_count": 20,
   "id": "0f992c4b",
   "metadata": {},
   "outputs": [
    {
     "name": "stdout",
     "output_type": "stream",
     "text": [
      "conv1.weight: torch.Size([32, 1, 3, 3])\n",
      "conv1.bias: torch.Size([32])\n",
      "conv2.weight: torch.Size([64, 32, 3, 3])\n",
      "conv2.bias: torch.Size([64])\n",
      "fc1.weight: torch.Size([128, 3136])\n",
      "fc1.bias: torch.Size([128])\n",
      "fc2.weight: torch.Size([10, 128])\n",
      "fc2.bias: torch.Size([10])\n"
     ]
    }
   ],
   "source": [
    "# 查看具体参数的形状\n",
    "for key, value in state_dict.items():\n",
    "    print(f\"{key}: {value.shape}\")"
   ]
  },
  {
   "cell_type": "code",
   "execution_count": null,
   "id": "77e1dc44",
   "metadata": {},
   "outputs": [
    {
     "name": "stdout",
     "output_type": "stream",
     "text": [
      "conv1_weight: torch.Size([32, 1, 3, 3])\n",
      "conv1_bias: torch.Size([32])\n",
      "conv2_weight: torch.Size([64, 32, 3, 3])\n",
      "conv2_bias: torch.Size([64])\n",
      "fc1_weight: torch.Size([128, 3136])\n",
      "fc1_bias: torch.Size([128])\n",
      "fc2_weight: torch.Size([10, 128])\n",
      "fc2_bias: torch.Size([10])\n"
     ]
    }
   ],
   "source": [
    "# 获取所有需要导出的参数\n",
    "conv1_weight = state_dict['conv1.weight']\n",
    "conv1_bias = state_dict['conv1.bias']\n",
    "conv2_weight = state_dict['conv2.weight']\n",
    "conv2_bias = state_dict['conv2.bias']\n",
    "fc1_weight = state_dict['fc1.weight']\n",
    "fc1_bias = state_dict['fc1.bias']\n",
    "fc2_weight = state_dict['fc2.weight']\n",
    "fc2_bias = state_dict['fc2.bias']\n",
    "\n",
    "# 检查形状\n",
    "print(f\"conv1_weight: {conv1_weight.shape}\")\n",
    "print(f\"conv1_bias: {conv1_bias.shape}\")\n",
    "print(f\"conv2_weight: {conv2_weight.shape}\")\n",
    "print(f\"conv2_bias: {conv2_bias.shape}\")\n",
    "print(f\"fc1_weight: {fc1_weight.shape}\")\n",
    "print(f\"fc1_bias: {fc1_bias.shape}\")\n",
    "print(f\"fc2_weight: {fc2_weight.shape}\")\n",
    "print(f\"fc2_bias: {fc2_bias.shape}\")"
   ]
  },
  {
   "cell_type": "code",
   "execution_count": 25,
   "id": "df5f3c37",
   "metadata": {},
   "outputs": [
    {
     "name": "stdout",
     "output_type": "stream",
     "text": [
      "参数成功导出到 parameters_cnn.bin 文件\n"
     ]
    }
   ],
   "source": [
    "conv1_weight = conv1_weight.to('cpu')\n",
    "conv1_bias = conv1_bias.to('cpu')\n",
    "conv2_weight = conv2_weight.to('cpu')\n",
    "conv2_bias = conv2_bias.to('cpu')\n",
    "fc1_weight = fc1_weight.to('cpu')\n",
    "fc1_bias = fc1_bias.to('cpu')\n",
    "fc2_weight = fc2_weight.to('cpu')\n",
    "fc2_bias = fc2_bias.to('cpu')\n",
    "\n",
    "# 将参数导出到二进制文件\n",
    "with open(\"parameters_cnn.bin\", \"wb\") as out_bin:\n",
    "    # 导出卷积层1的参数\n",
    "    conv1_weight.numpy().astype(np.float32).tofile(out_bin)\n",
    "    conv1_bias.numpy().astype(np.float32).tofile(out_bin)\n",
    "    \n",
    "    # 导出卷积层2的参数\n",
    "    conv2_weight.numpy().astype(np.float32).tofile(out_bin)\n",
    "    conv2_bias.numpy().astype(np.float32).tofile(out_bin)\n",
    "    \n",
    "    # 导出全连接层1的参数\n",
    "    fc1_weight.numpy().astype(np.float32).tofile(out_bin)\n",
    "    fc1_bias.numpy().astype(np.float32).tofile(out_bin)\n",
    "    \n",
    "    # 导出全连接层2的参数\n",
    "    fc2_weight.numpy().astype(np.float32).tofile(out_bin)\n",
    "    fc2_bias.numpy().astype(np.float32).tofile(out_bin)\n",
    "\n",
    "print(\"参数成功导出到 parameters_cnn.bin 文件\")"
   ]
  },
  {
   "cell_type": "markdown",
   "id": "761368bd",
   "metadata": {},
   "source": [
    "## 验证参数文件\n",
    "\n",
    "检查二进制文件大小是否与参数数量一致"
   ]
  },
  {
   "cell_type": "code",
   "execution_count": 26,
   "id": "729955ab",
   "metadata": {},
   "outputs": [
    {
     "name": "stdout",
     "output_type": "stream",
     "text": [
      "参数总数: 421642\n",
      "文件大小: 1686568 字节\n",
      "预期大小: 1686568 字节\n",
      "大小是否匹配: True\n"
     ]
    }
   ],
   "source": [
    "import os\n",
    "\n",
    "# 计算参数总数\n",
    "total_params = (\n",
    "    conv1_weight.numel() + conv1_bias.numel() +\n",
    "    conv2_weight.numel() + conv2_bias.numel() +\n",
    "    fc1_weight.numel() + fc1_bias.numel() +\n",
    "    fc2_weight.numel() + fc2_bias.numel()\n",
    ")\n",
    "\n",
    "# 检查文件大小\n",
    "file_size = os.path.getsize(\"parameters_cnn.bin\")\n",
    "expected_size = total_params * 4  # 每个float32参数占4个字节\n",
    "\n",
    "print(f\"参数总数: {total_params}\")\n",
    "print(f\"文件大小: {file_size} 字节\")\n",
    "print(f\"预期大小: {expected_size} 字节\")\n",
    "print(f\"大小是否匹配: {file_size == expected_size}\")"
   ]
  }
 ],
 "metadata": {
  "kernelspec": {
   "display_name": "base",
   "language": "python",
   "name": "python3"
  },
  "language_info": {
   "codemirror_mode": {
    "name": "ipython",
    "version": 3
   },
   "file_extension": ".py",
   "mimetype": "text/x-python",
   "name": "python",
   "nbconvert_exporter": "python",
   "pygments_lexer": "ipython3",
   "version": "3.12.7"
  }
 },
 "nbformat": 4,
 "nbformat_minor": 5
}
