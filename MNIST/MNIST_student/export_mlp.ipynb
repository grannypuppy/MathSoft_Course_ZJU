{
 "cells": [
  {
   "cell_type": "code",
   "execution_count": 1,
   "id": "f16726b5-cb26-44d6-b01d-632dbc1e0414",
   "metadata": {},
   "outputs": [
    {
     "name": "stdout",
     "output_type": "stream",
     "text": [
      "Epoch 1 完成\n",
      "Epoch 2 完成\n",
      "Epoch 3 完成\n",
      "Epoch 4 完成\n",
      "Epoch 5 完成\n",
      "\n",
      "测试准确率：0.9749\n"
     ]
    },
    {
     "data": {
      "image/png": "[encoded data removed]",
      "text/plain": [
       "<Figure size 1000x200 with 10 Axes>"
      ]
     },
     "metadata": {},
     "output_type": "display_data"
    }
   ],
   "source": [
    "import torch\n",
    "import torch.nn as nn\n",
    "import torch.nn.functional as F\n",
    "import torch.optim as optim\n",
    "from torchvision import datasets, transforms\n",
    "import matplotlib.pyplot as plt\n",
    "\n",
    "# 定义一个简单的CNN模型\n",
    "class Net(nn.Module):\n",
    "    def __init__(self):\n",
    "        super(Net, self).__init__()\n",
    "        self.fc1 = nn.Linear(28 * 28, 128)\n",
    "        self.dropout = nn.Dropout(0.2)\n",
    "        self.fc2 = nn.Linear(128, 10)\n",
    "\n",
    "    def forward(self, x):\n",
    "        x = x.view(-1, 28 * 28)\n",
    "        x = F.relu(self.fc1(x))\n",
    "        x = self.dropout(x)\n",
    "        x = self.fc2(x)\n",
    "        return x\n",
    "\n",
    "# 加载 MNIST 数据集\n",
    "transform = transforms.Compose([transforms.ToTensor()])\n",
    "\n",
    "train_dataset = datasets.MNIST('./data', train=True, download=True, transform=transform)\n",
    "test_dataset = datasets.MNIST('./data', train=False, transform=transform)\n",
    "\n",
    "train_loader = torch.utils.data.DataLoader(train_dataset, batch_size=32, shuffle=True)\n",
    "test_loader = torch.utils.data.DataLoader(test_dataset, batch_size=1000, shuffle=False)\n",
    "\n",
    "device = torch.device(\"cuda\" if torch.cuda.is_available() else \"cpu\")\n",
    "model = Net().to(device)\n",
    "optimizer = optim.Adam(model.parameters(), lr=0.001)\n",
    "criterion = nn.CrossEntropyLoss()\n",
    "\n",
    "# 训练模型\n",
    "for epoch in range(1, 6):\n",
    "    model.train()\n",
    "    for batch_idx, (data, target) in enumerate(train_loader):\n",
    "        data, target = data.to(device), target.to(device)\n",
    "        optimizer.zero_grad()\n",
    "        output = model(data)\n",
    "        loss = criterion(output, target)\n",
    "        loss.backward()\n",
    "        optimizer.step()\n",
    "    print(f\"Epoch {epoch} 完成\")\n",
    "\n",
    "# 测试模型\n",
    "model.eval()\n",
    "correct = 0\n",
    "with torch.no_grad():\n",
    "    for data, target in test_loader:\n",
    "        data, target = data.to(device), target.to(device)\n",
    "        output = model(data)\n",
    "        pred = output.argmax(dim=1)\n",
    "        correct += pred.eq(target).sum().item()\n",
    "\n",
    "print(f\"\\n测试准确率：{correct / len(test_loader.dataset):.4f}\")\n",
    "\n",
    "# 显示前10个预测结果\n",
    "examples = enumerate(test_loader)\n",
    "batch_idx, (example_data, example_targets) = next(examples)\n",
    "\n",
    "with torch.no_grad():\n",
    "    output = model(example_data.to(device))\n",
    "\n",
    "plt.figure(figsize=(10, 2))\n",
    "for i in range(10):\n",
    "    plt.subplot(1, 10, i + 1)\n",
    "    plt.imshow(example_data[i][0], cmap='gray')\n",
    "    plt.title(f\"{output[i].argmax().item()}\")\n",
    "    plt.axis('off')\n",
    "plt.show()"
   ]
  },
  {
   "cell_type": "markdown",
   "id": "49ad262d-f66d-4459-becb-955671d7b381",
   "metadata": {},
   "source": [
    "我们来测试代码，学习 pytorch 结构："
   ]
  },
  {
   "cell_type": "code",
   "execution_count": 2,
   "id": "ca054dd6-38e4-4e03-82aa-80af144568e4",
   "metadata": {},
   "outputs": [
    {
     "name": "stdout",
     "output_type": "stream",
     "text": [
      "OrderedDict([('fc1.weight', tensor([[ 0.0318, -0.0292, -0.0084,  ...,  0.0133,  0.0329,  0.0178],\n",
      "        [ 0.0050, -0.0201,  0.0306,  ..., -0.0080, -0.0135, -0.0205],\n",
      "        [ 0.0218, -0.0209,  0.0109,  ...,  0.0172,  0.0168, -0.0250],\n",
      "        ...,\n",
      "        [ 0.0037, -0.0272, -0.0038,  ..., -0.0168,  0.0204, -0.0265],\n",
      "        [ 0.0351, -0.0256,  0.0347,  ...,  0.0347,  0.0197,  0.0091],\n",
      "        [ 0.0225,  0.0207, -0.0129,  ...,  0.0114, -0.0295, -0.0269]])), ('fc1.bias', tensor([-0.1444, -0.1129,  0.0851, -0.1721,  0.1727,  0.0529,  0.0270, -0.0336,\n",
      "        -0.0752,  0.1973, -0.0830,  0.0211, -0.1648, -0.1104,  0.1270,  0.1370,\n",
      "        -0.0428, -0.0369,  0.1456,  0.0994,  0.0875,  0.0627,  0.2011, -0.0648,\n",
      "         0.1523, -0.0023,  0.0733,  0.1009,  0.0040, -0.2162,  0.0817,  0.0684,\n",
      "        -0.0190, -0.0911,  0.1429, -0.1360,  0.0677, -0.1961,  0.0906, -0.1851,\n",
      "         0.1394, -0.1317, -0.0513,  0.0534,  0.0406,  0.0094, -0.0972,  0.1118,\n",
      "         0.0875,  0.1329,  0.0753,  0.0505, -0.2294,  0.0076,  0.0466, -0.0292,\n",
      "         0.2632,  0.1580, -0.0626, -0.0198,  0.0508, -0.0122,  0.1491, -0.0669,\n",
      "         0.1699,  0.0379, -0.0537, -0.0702, -0.0984, -0.0817,  0.1153, -0.0270,\n",
      "        -0.0153, -0.0035, -0.1355, -0.0146,  0.1245,  0.0170,  0.0265, -0.0395,\n",
      "         0.0918, -0.0549,  0.1212, -0.1375, -0.0657,  0.3121,  0.0883,  0.1255,\n",
      "         0.0133,  0.1803,  0.0769, -0.0381, -0.0065,  0.0383,  0.0635,  0.0784,\n",
      "         0.1658,  0.1038, -0.0470, -0.0405, -0.0202,  0.2174,  0.1219,  0.0219,\n",
      "        -0.2014,  0.1665,  0.0844,  0.1401,  0.1027,  0.0541,  0.1864, -0.0707,\n",
      "         0.0176, -0.0279, -0.1239, -0.0436,  0.0955,  0.1365,  0.1864,  0.0499,\n",
      "        -0.0102, -0.0444,  0.0869,  0.0555,  0.0414, -0.0492, -0.0175,  0.0677])), ('fc2.weight', tensor([[ 0.1247,  0.1151,  0.1651,  ...,  0.0873,  0.1411,  0.0724],\n",
      "        [-0.3680, -0.5948, -0.0586,  ...,  0.0542,  0.0401, -0.2288],\n",
      "        [-0.2265, -0.2135,  0.1097,  ..., -0.0044, -0.0603, -0.3385],\n",
      "        ...,\n",
      "        [-0.0811, -0.0589,  0.1220,  ...,  0.0150, -0.3861,  0.0754],\n",
      "        [ 0.0501,  0.0552, -0.2238,  ..., -0.0775,  0.1025,  0.0575],\n",
      "        [ 0.0549,  0.0924, -0.2949,  ...,  0.0436, -0.1242,  0.1002]])), ('fc2.bias', tensor([-0.0577,  0.0223, -0.0348, -0.1106,  0.0919,  0.0735, -0.0930, -0.0992,\n",
      "         0.0317, -0.0055]))])\n"
     ]
    }
   ],
   "source": [
    "import numpy as np\n",
    "\n",
    "# 获取模型参数的state_dict\n",
    "state_dict = model.state_dict()\n",
    "print(state_dict)"
   ]
  },
  {
   "cell_type": "markdown",
   "id": "4177404a-6954-4090-82da-915784d16b24",
   "metadata": {},
   "source": [
    "从中不难分析出，我们需要的数据都是以 dictionary 的形式，即 (key, value) 的形式存储。我们真正需要的参数就是 `fc1.weight`, `fc1.bias`, `fc2.weight`, `fc2.bias`:"
   ]
  },
  {
   "cell_type": "code",
   "execution_count": 3,
   "id": "1c055990-b4a3-42af-9fe3-08bc1ebdcbb6",
   "metadata": {},
   "outputs": [],
   "source": [
    "W1 = state_dict['fc1.weight']\n",
    "b1 = state_dict['fc1.bias']\n",
    "W2 = state_dict['fc2.weight']\n",
    "b2 = state_dict['fc2.bias']"
   ]
  },
  {
   "cell_type": "markdown",
   "id": "79bc8107-6fb4-43a3-aee8-34292083fdb8",
   "metadata": {},
   "source": [
    "我们可以记录下来，再输出："
   ]
  },
  {
   "cell_type": "code",
   "execution_count": 4,
   "id": "7486967d-e5a6-4b9c-abd3-cb6076c7b16c",
   "metadata": {},
   "outputs": [
    {
     "name": "stdout",
     "output_type": "stream",
     "text": [
      "tensor([[ 0.0318, -0.0292, -0.0084,  ...,  0.0133,  0.0329,  0.0178],\n",
      "        [ 0.0050, -0.0201,  0.0306,  ..., -0.0080, -0.0135, -0.0205],\n",
      "        [ 0.0218, -0.0209,  0.0109,  ...,  0.0172,  0.0168, -0.0250],\n",
      "        ...,\n",
      "        [ 0.0037, -0.0272, -0.0038,  ..., -0.0168,  0.0204, -0.0265],\n",
      "        [ 0.0351, -0.0256,  0.0347,  ...,  0.0347,  0.0197,  0.0091],\n",
      "        [ 0.0225,  0.0207, -0.0129,  ...,  0.0114, -0.0295, -0.0269]])\n"
     ]
    }
   ],
   "source": [
    "print (W1)"
   ]
  },
  {
   "cell_type": "markdown",
   "id": "7d249d4a-4a73-4593-8659-8b3214357289",
   "metadata": {},
   "source": [
    "检查它的值和属性："
   ]
  },
  {
   "cell_type": "code",
   "execution_count": 5,
   "id": "580d43ea-6178-4838-b64d-a18facd16ebb",
   "metadata": {},
   "outputs": [
    {
     "data": {
      "text/plain": [
       "torch.Size([128, 784])"
      ]
     },
     "execution_count": 5,
     "metadata": {},
     "output_type": "execute_result"
    }
   ],
   "source": [
    "W1.shape"
   ]
  },
  {
   "cell_type": "markdown",
   "id": "93995339-ac99-4f4c-9d00-c66c9f71f4af",
   "metadata": {},
   "source": [
    "在阅读了 AI 的解释之后，我们可以将上述参数直接转成 numpy 的数组，然后存储起来。在这个过程中，我们不想拉平数组（`flatten()`），也不想将所有参数集中为一个数组（`np.concatenate([...])`），我们尝试保存所有参数的数组结构，并以二进制文件的形式存储。以便于后续我们用其他语言读出，再直接在内存中形成数组。"
   ]
  },
  {
   "cell_type": "code",
   "execution_count": 6,
   "id": "da0535ef-5abf-4cb1-bba3-1edd4d68b48e",
   "metadata": {},
   "outputs": [
    {
     "data": {
      "text/plain": [
       "array([[ 0.03184346, -0.02924388, -0.00843849, ...,  0.01333205,\n",
       "         0.03294464,  0.01777283],\n",
       "       [ 0.00499205, -0.0200829 ,  0.03063413, ..., -0.00802872,\n",
       "        -0.01346813, -0.02045709],\n",
       "       [ 0.02176846, -0.02087042,  0.01093082, ...,  0.01723282,\n",
       "         0.01683863, -0.02498706],\n",
       "       ...,\n",
       "       [ 0.00374972, -0.02724724, -0.00383054, ..., -0.01684714,\n",
       "         0.02035334, -0.02648209],\n",
       "       [ 0.03508311, -0.02557291,  0.03466736, ...,  0.03474255,\n",
       "         0.01968213,  0.00907661],\n",
       "       [ 0.02253369,  0.02068593, -0.01287071, ...,  0.01138796,\n",
       "        -0.0294566 , -0.02688707]], shape=(128, 784), dtype=float32)"
      ]
     },
     "execution_count": 6,
     "metadata": {},
     "output_type": "execute_result"
    }
   ],
   "source": [
    "W1.numpy()"
   ]
  },
  {
   "cell_type": "code",
   "execution_count": 7,
   "id": "4e3a598a-ed90-4fc3-8adb-e01a2b9e3d56",
   "metadata": {},
   "outputs": [],
   "source": [
    "W1np=W1.numpy()"
   ]
  },
  {
   "cell_type": "code",
   "execution_count": 8,
   "id": "16ed0cce-6d28-45bb-ac41-170adf668246",
   "metadata": {},
   "outputs": [
    {
     "data": {
      "text/plain": [
       "\u001b[0;31mDocstring:\u001b[0m\n",
       "a.tofile(fid, sep=\"\", format=\"%s\")\n",
       "\n",
       "Write array to a file as text or binary (default).\n",
       "\n",
       "Data is always written in 'C' order, independent of the order of `a`.\n",
       "The data produced by this method can be recovered using the function\n",
       "fromfile().\n",
       "\n",
       "Parameters\n",
       "----------\n",
       "fid : file or str or Path\n",
       "    An open file object, or a string containing a filename.\n",
       "sep : str\n",
       "    Separator between array items for text output.\n",
       "    If \"\" (empty), a binary file is written, equivalent to\n",
       "    ``file.write(a.tobytes())``.\n",
       "format : str\n",
       "    Format string for text file output.\n",
       "    Each entry in the array is formatted to text by first converting\n",
       "    it to the closest Python type, and then using \"format\" % item.\n",
       "\n",
       "Notes\n",
       "-----\n",
       "This is a convenience function for quick storage of array data.\n",
       "Information on endianness and precision is lost, so this method is not a\n",
       "good choice for files intended to archive data or transport data between\n",
       "machines with different endianness. Some of these problems can be overcome\n",
       "by outputting the data as text files, at the expense of speed and file\n",
       "size.\n",
       "\n",
       "When fid is a file object, array contents are directly written to the\n",
       "file, bypassing the file object's ``write`` method. As a result, tofile\n",
       "cannot be used with files objects supporting compression (e.g., GzipFile)\n",
       "or file-like objects that do not support ``fileno()`` (e.g., BytesIO).\n",
       "\u001b[0;31mType:\u001b[0m      builtin_function_or_method"
      ]
     },
     "metadata": {},
     "output_type": "display_data"
    }
   ],
   "source": [
    "W1np.tofile?"
   ]
  },
  {
   "cell_type": "markdown",
   "id": "abd86f32-4b88-49db-b85b-159d961321c4",
   "metadata": {},
   "source": [
    "研究上面的文档，我们知道可以直接将一个 tensor 输出为一个二进制文件："
   ]
  },
  {
   "cell_type": "code",
   "execution_count": 9,
   "id": "27aae59d-114e-41fb-a96f-ea78d1dc3d37",
   "metadata": {},
   "outputs": [],
   "source": [
    "W1.numpy().astype(np.float32).tofile(\"W1.bin\")"
   ]
  },
  {
   "cell_type": "markdown",
   "id": "e2e96d09-6731-4086-a79f-24a510d8be12",
   "metadata": {},
   "source": [
    "这里我们研究了一下具体 `tofile` 的具体用法，比如追加还是覆盖，然后自己实现一下将所有参数写到一个二进制文件 `parameters.bin` 中："
   ]
  },
  {
   "cell_type": "code",
   "execution_count": null,
   "id": "00a66b38-0498-4102-b5cc-324ef007c3f5",
   "metadata": {},
   "outputs": [],
   "source": [
    "W1 = state_dict['fc1.weight']\n",
    "b1 = state_dict['fc1.bias']\n",
    "W2 = state_dict['fc2.weight']\n",
    "b2 = state_dict['fc2.bias']\n",
    "\n",
    "# 用写模式保证清空旧文件\n",
    "with open(\"parameters_mlp.bin\", \"wb\") as out_bin:\n",
    "    W1.numpy().astype(np.float32).tofile(out_bin)\n",
    "    b1.numpy().astype(np.float32).tofile(out_bin)\n",
    "    W2.numpy().astype(np.float32).tofile(out_bin)\n",
    "    b2.numpy().astype(np.float32).tofile(out_bin)\n"
   ]
  }
 ],
 "metadata": {
  "kernelspec": {
   "display_name": "Python 3 (ipykernel)",
   "language": "python",
   "name": "python3"
  },
  "language_info": {
   "codemirror_mode": {
    "name": "ipython",
    "version": 3
   },
   "file_extension": ".py",
   "mimetype": "text/x-python",
   "name": "python",
   "nbconvert_exporter": "python",
   "pygments_lexer": "ipython3",
   "version": "3.10.16"
  }
 },
 "nbformat": 4,
 "nbformat_minor": 5
}
