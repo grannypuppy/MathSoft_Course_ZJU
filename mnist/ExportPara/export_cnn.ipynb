{
 "cells": [
  {
   "cell_type": "code",
   "execution_count": null,
   "id": "3d8ed6be",
   "metadata": {},
   "outputs": [],
   "source": [
    "import torch\n",
    "import torch.nn as nn\n",
    "import torch.nn.functional as F\n",
    "import torch.optim as optim\n",
    "from torchvision import datasets, transforms\n",
    "import matplotlib.pyplot as plt\n",
    "import numpy as np\n",
    "\n",
    "# 定义 CNN 模型\n",
    "class CNN(nn.Module):\n",
    "    def __init__(self):\n",
    "        super(CNN, self).__init__()\n",
    "        self.conv1 = nn.Conv2d(1, 32, kernel_size=3, padding=1)  # -> 32 x 28 x 28\n",
    "        self.conv2 = nn.Conv2d(32, 64, kernel_size=3, padding=1) # -> 64 x 28 x 28\n",
    "        self.pool = nn.MaxPool2d(2, 2)                           # 每次池化尺寸减半\n",
    "        self.dropout = nn.Dropout(0.25)\n",
    "        self.fc1 = nn.Linear(64 * 7 * 7, 128)\n",
    "        self.fc2 = nn.Linear(128, 10)\n",
    "\n",
    "    def forward(self, x):\n",
    "        x = F.relu(self.conv1(x))              # -> (B, 32, 28, 28)\n",
    "        x = self.pool(F.relu(self.conv2(x)))   # -> (B, 64, 14, 14)\n",
    "        x = self.pool(x)                       # -> (B, 64, 7, 7)\n",
    "        x = self.dropout(x)\n",
    "        x = x.view(x.size(0), -1)              # -> (B, 3136)\n",
    "        x = F.relu(self.fc1(x))                # -> (B, 128)\n",
    "        x = self.fc2(x)                        # -> (B, 10)\n",
    "        return x"
   ]
  },
  {
   "cell_type": "code",
   "execution_count": null,
   "id": "d6ae4d2f",
   "metadata": {},
   "outputs": [],
   "source": [
    "# 数据预处理\n",
    "transform = transforms.Compose([\n",
    "    transforms.ToTensor(),\n",
    "    transforms.Normalize((0.1307,), (0.3081,))  # 标准化\n",
    "])\n",
    "\n",
    "# 加载 MNIST 数据集\n",
    "train_dataset = datasets.MNIST('../data', train=True, download=True, transform=transform)\n",
    "test_dataset = datasets.MNIST('../data', train=False, transform=transform)\n",
    "\n",
    "train_loader = torch.utils.data.DataLoader(train_dataset, batch_size=32, shuffle=True)\n",
    "test_loader = torch.utils.data.DataLoader(test_dataset, batch_size=1000, shuffle=False)\n",
    "\n",
    "# 设置设备\n",
    "device = torch.device(\"cuda\" if torch.cuda.is_available() else \"cpu\")\n",
    "model = CNN().to(device)\n",
    "\n",
    "# 设置优化器和损失函数\n",
    "optimizer = optim.Adam(model.parameters(), lr=0.001)\n",
    "criterion = nn.CrossEntropyLoss()"
   ]
  },
  {
   "cell_type": "code",
   "execution_count": null,
   "id": "e6019517",
   "metadata": {},
   "outputs": [],
   "source": [
    "# 训练模型\n",
    "for epoch in range(1, 6):\n",
    "    model.train()\n",
    "    for batch_idx, (data, target) in enumerate(train_loader):\n",
    "        data, target = data.to(device), target.to(device)\n",
    "        optimizer.zero_grad()\n",
    "        output = model(data)\n",
    "        loss = criterion(output, target)\n",
    "        loss.backward()\n",
    "        optimizer.step()\n",
    "    print(f\"Epoch {epoch} 完成\")\n",
    "\n",
    "# 测试模型\n",
    "model.eval()\n",
    "correct = 0\n",
    "with torch.no_grad():\n",
    "    for data, target in test_loader:\n",
    "        data, target = data.to(device), target.to(device)\n",
    "        output = model(data)\n",
    "        pred = output.argmax(dim=1)\n",
    "        correct += pred.eq(target).sum().item()\n",
    "\n",
    "print(f\"\\n测试准确率：{correct / len(test_loader.dataset):.4f}\")"
   ]
  },
  {
   "cell_type": "code",
   "execution_count": null,
   "id": "538bfb29",
   "metadata": {},
   "outputs": [],
   "source": [
    "# 显示前10个预测结果\n",
    "examples = enumerate(test_loader)\n",
    "batch_idx, (example_data, example_targets) = next(examples)\n",
    "\n",
    "with torch.no_grad():\n",
    "    output = model(example_data.to(device))\n",
    "\n",
    "plt.figure(figsize=(10, 2))\n",
    "for i in range(10):\n",
    "    plt.subplot(1, 10, i + 1)\n",
    "    plt.imshow(example_data[i][0].cpu(), cmap='gray')\n",
    "    plt.title(f\"{output[i].argmax().item()}\")\n",
    "    plt.axis('off')\n",
    "plt.show()"
   ]
  },
  {
   "cell_type": "markdown",
   "id": "c0dee347",
   "metadata": {},
   "source": [
    "# 导出 CNN 模型参数到二进制文件\n",
    "\n",
    "获取并导出所有需要的模型参数，包括卷积层和全连接层的权重与偏置。"
   ]
  },
  {
   "cell_type": "code",
   "execution_count": null,
   "id": "b36912a4",
   "metadata": {},
   "outputs": [],
   "source": [
    "# 获取模型参数的state_dict\n",
    "state_dict = model.state_dict()\n",
    "print(\"模型参数列表:\")\n",
    "for param_name in state_dict:\n",
    "    print(f\"{param_name}: {state_dict[param_name].shape}\")"
   ]
  },
  {
   "cell_type": "markdown",
   "id": "ad0172b7",
   "metadata": {},
   "source": [
    "提取我们需要的参数，包括：\n",
    "- conv1.weight：第一个卷积层的权重\n",
    "- conv1.bias：第一个卷积层的偏置\n",
    "- conv2.weight：第二个卷积层的权重\n",
    "- conv2.bias：第二个卷积层的偏置\n",
    "- fc1.weight：第一个全连接层的权重\n",
    "- fc1.bias：第一个全连接层的偏置\n",
    "- fc2.weight：第二个全连接层的权重\n",
    "- fc2.bias：第二个全连接层的偏置"
   ]
  },
  {
   "cell_type": "code",
   "execution_count": null,
   "id": "31552dd6",
   "metadata": {},
   "outputs": [],
   "source": [
    "# 提取所需参数\n",
    "conv1_weight = state_dict['conv1.weight']\n",
    "conv1_bias = state_dict['conv1.bias']\n",
    "conv2_weight = state_dict['conv2.weight']\n",
    "conv2_bias = state_dict['conv2.bias']\n",
    "fc1_weight = state_dict['fc1.weight']\n",
    "fc1_bias = state_dict['fc1.bias'] \n",
    "fc2_weight = state_dict['fc2.weight']\n",
    "fc2_bias = state_dict['fc2.bias']\n",
    "\n",
    "# 检查参数形状\n",
    "print(f\"conv1_weight: {conv1_weight.shape}\")\n",
    "print(f\"conv1_bias: {conv1_bias.shape}\")\n",
    "print(f\"conv2_weight: {conv2_weight.shape}\")\n",
    "print(f\"conv2_bias: {conv2_bias.shape}\")\n",
    "print(f\"fc1_weight: {fc1_weight.shape}\")\n",
    "print(f\"fc1_bias: {fc1_bias.shape}\")\n",
    "print(f\"fc2_weight: {fc2_weight.shape}\")\n",
    "print(f\"fc2_bias: {fc2_bias.shape}\")"
   ]
  },
  {
   "cell_type": "code",
   "execution_count": null,
   "id": "2d448deb",
   "metadata": {},
   "outputs": [],
   "source": [
    "# 将所有参数写入二进制文件\n",
    "with open(\"parameters_cnn.bin\", \"wb\") as out_bin:\n",
    "    conv1_weight.cpu().numpy().astype(np.float32).tofile(out_bin)\n",
    "    conv1_bias.cpu().numpy().astype(np.float32).tofile(out_bin)\n",
    "    conv2_weight.cpu().numpy().astype(np.float32).tofile(out_bin)\n",
    "    conv2_bias.cpu().numpy().astype(np.float32).tofile(out_bin)\n",
    "    fc1_weight.cpu().numpy().astype(np.float32).tofile(out_bin)\n",
    "    fc1_bias.cpu().numpy().astype(np.float32).tofile(out_bin)\n",
    "    fc2_weight.cpu().numpy().astype(np.float32).tofile(out_bin)\n",
    "    fc2_bias.cpu().numpy().astype(np.float32).tofile(out_bin)\n",
    "\n",
    "print(\"参数已成功导出到 parameters_cnn.bin\")"
   ]
  }
 ],
 "metadata": {
  "language_info": {
   "name": "python"
  }
 },
 "nbformat": 4,
 "nbformat_minor": 5
}
